{
  "cells": [
    {
      "cell_type": "markdown",
      "metadata": {
        "id": "M2nf4mIeXu3Y"
      },
      "source": [
        "# Importing NN modules and data"
      ]
    },
    {
      "cell_type": "code",
      "execution_count": 1,
      "metadata": {
        "colab": {
          "base_uri": "https://localhost:8080/"
        },
        "id": "MAiM7TkQEUjR",
        "outputId": "16c4cf0f-fae6-4bf3-b313-9b07f3c1956b"
      },
      "outputs": [
        {
          "output_type": "stream",
          "name": "stdout",
          "text": [
            "Mounted at /content/drive\n"
          ]
        }
      ],
      "source": [
        "from google.colab import drive\n",
        "drive.mount('/content/drive')"
      ]
    },
    {
      "cell_type": "code",
      "execution_count": 1,
      "metadata": {
        "id": "QnzKmIb7EUjU"
      },
      "outputs": [],
      "source": [
        "import sys\n",
        "sys.path.insert(0,\"/content/drive/My Drive/Colab Notebooks/NeuralNetwork\")"
      ]
    },
    {
      "cell_type": "code",
      "execution_count": 2,
      "metadata": {
        "id": "3v2w4PhUEUjV"
      },
      "outputs": [],
      "source": [
        "import torch\n",
        "import matplotlib.pyplot as plt\n",
        "from torch import nn\n",
        "from torch.utils.data import Dataset, DataLoader\n",
        "\n",
        "import pandas as pd\n",
        "import os\n",
        "import torch.optim as optim\n",
        "\n",
        "\n",
        "import numpy as np\n",
        "import random\n",
        "import copy\n",
        "import pickle\n",
        "import pandas as pd\n",
        "import time\n",
        "\n",
        "from library_model import layers as lay\n",
        "from library_model import model_building as mb\n",
        "from library_model import model_training as mt\n",
        "from data import data_loading as dt\n",
        "from data import text as txt"
      ]
    },
    {
      "cell_type": "markdown",
      "metadata": {
        "id": "3xUCd9vnYC8P"
      },
      "source": [
        "# Process Data"
      ]
    },
    {
      "cell_type": "code",
      "execution_count": 3,
      "metadata": {
        "id": "zlyc3oYjEUjW"
      },
      "outputs": [],
      "source": [
        "from torchvision import datasets, transforms\n",
        "from torchvision.io import read_image\n",
        "from torchvision.transforms import ToTensor, Lambda"
      ]
    },
    {
      "cell_type": "code",
      "execution_count": 4,
      "metadata": {
        "id": "KEl4G0QAEUjW"
      },
      "outputs": [],
      "source": [
        "train_data = datasets.FashionMNIST(root = \"data\" , train = True, download = True, transform = ToTensor(), target_transform= Lambda( lambda y: torch.zeros(10, dtype= torch.float).scatter_(0,torch.tensor(y),value = 1)))\n",
        "test_data = datasets.FashionMNIST(root = \"data\" , train = False, download = True, transform = ToTensor(), target_transform= Lambda( lambda y: torch.zeros(10, dtype= torch.float).scatter_(0,torch.tensor(y),value = 1)))"
      ]
    },
    {
      "cell_type": "code",
      "execution_count": 5,
      "metadata": {
        "id": "TmERjU1PEUjW"
      },
      "outputs": [],
      "source": [
        "d = dt.Data()\n",
        "d.train_dataloader = DataLoader( dataset= train_data, batch_size = 64, shuffle = True)\n",
        "d.test_dataloader = DataLoader( dataset= test_data, batch_size = 64, shuffle = True)"
      ]
    },
    {
      "cell_type": "code",
      "execution_count": 6,
      "metadata": {
        "colab": {
          "base_uri": "https://localhost:8080/"
        },
        "id": "JL3LcbuQEyBC",
        "outputId": "714de556-0de0-4f0c-c0df-a1d4e7487712"
      },
      "outputs": [
        {
          "output_type": "execute_result",
          "data": {
            "text/plain": [
              "(torch.Size([64, 1, 28, 28]), torch.Size([64, 10]))"
            ]
          },
          "metadata": {},
          "execution_count": 6
        }
      ],
      "source": [
        "x1, y1 = (next(iter(d.train_dataloader)))\n",
        "x1.size(), y1.size()"
      ]
    },
    {
      "cell_type": "code",
      "execution_count": 7,
      "metadata": {
        "colab": {
          "base_uri": "https://localhost:8080/"
        },
        "id": "KZccFiOmgw4m",
        "outputId": "e86f06e5-82c1-46f3-fa5d-ebea2d2ab692"
      },
      "outputs": [
        {
          "output_type": "execute_result",
          "data": {
            "text/plain": [
              "938"
            ]
          },
          "metadata": {},
          "execution_count": 7
        }
      ],
      "source": [
        "batch_num = len(d.train_dataloader)\n",
        "num_epochs = 5\n",
        "batch_num"
      ]
    },
    {
      "cell_type": "markdown",
      "metadata": {
        "id": "637OC-RFYMsI"
      },
      "source": [
        "# Define Network State"
      ]
    },
    {
      "cell_type": "code",
      "execution_count": 8,
      "metadata": {
        "id": "kHuXy1ckEUjX"
      },
      "outputs": [],
      "source": [
        "state = lay.Network_state()\n",
        "p = state.parameters\n",
        "tr = state.training\n",
        "p.dropout = 0.2\n",
        "p.convlayers = [{\"filter_dim\" : int(5), \"in_features\": int(1), \"out_features\": int(10), \"pooling\": 2.}, {\"filter_dim\": int(5), \"in_features\": int(10), \"out_features\" : int(10), \"pooling\": 2.}]\n",
        "p.linearlayers = [{\"dim_in\" : int(10*(4**2)), \"dim_hid\" : int(100), \"bias_is_true\" : True , \"relu_is_true\" : True}, {\"dim_in\" : int(100), \"dim_hid\" : int(10), \"bias_is_true\" : True, \"relu_is_true\" : False}]\n",
        "tr.lr = 1.\n",
        "tr.batch_size = 64\n",
        "tr.optimizer = \"sgd\"\n",
        "tr.schedule = mb.learning_rate_cosine(1., batch_num*num_epochs, 0.1)"
      ]
    },
    {
      "cell_type": "markdown",
      "metadata": {
        "id": "HW_iAOG7YWYr"
      },
      "source": [
        "# Construct Model"
      ]
    },
    {
      "cell_type": "code",
      "execution_count": 9,
      "metadata": {
        "id": "hgpRY3IsEUjY"
      },
      "outputs": [],
      "source": [
        "model = mb.Convolutional(state).to(state.device)"
      ]
    },
    {
      "cell_type": "code",
      "execution_count": 10,
      "metadata": {
        "id": "tRyyHLBmJ9we"
      },
      "outputs": [],
      "source": [
        "opt, scheduler = mb.get_optimizer(state, model)\n",
        "criterion = nn.CrossEntropyLoss().to(state.device)"
      ]
    },
    {
      "cell_type": "markdown",
      "metadata": {
        "id": "DTIilQCQYcQ8"
      },
      "source": [
        "# Train Model"
      ]
    },
    {
      "cell_type": "code",
      "execution_count": 11,
      "metadata": {
        "id": "XgDLXeTxL5aA"
      },
      "outputs": [],
      "source": [
        "train_fashion = mt.CNN_training(data = d, state = state, model = model, opt = opt, scheduler = scheduler)"
      ]
    },
    {
      "cell_type": "code",
      "execution_count": 12,
      "metadata": {
        "colab": {
          "base_uri": "https://localhost:8080/",
          "height": 761
        },
        "id": "B0hkqbUVlLIT",
        "outputId": "f7c0866c-de78-4b14-bafd-555971d5e296"
      },
      "outputs": [
        {
          "output_type": "stream",
          "name": "stdout",
          "text": [
            "Batch 200 | lr = 1.10 | time = 0.0123 | train loss 1.22\n",
            "Batch 400 | lr = 1.08 | time = 0.0122 | train loss 0.64\n",
            "Batch 600 | lr = 1.06 | time = 0.0121 | train loss 0.52\n",
            "Batch 800 | lr = 1.03 | time = 0.013 | train loss 0.46\n",
            "Epoch: 0 | time: 0.02 -- test loss = 0.48 -- accuracy = 0.78\n",
            "\n",
            "Batch 200 | lr = 0.96 | time = 0.0135 | train loss 0.46\n",
            "Batch 400 | lr = 0.91 | time = 0.0199 | train loss 0.46\n",
            "Batch 600 | lr = 0.86 | time = 0.012 | train loss 0.38\n",
            "Batch 800 | lr = 0.80 | time = 0.0141 | train loss 0.37\n",
            "Epoch: 1 | time: 0.01 -- test loss = 0.35 -- accuracy = 0.83\n",
            "\n",
            "Batch 200 | lr = 0.69 | time = 0.012 | train loss 0.39\n",
            "Batch 400 | lr = 0.62 | time = 0.0256 | train loss 0.38\n",
            "Batch 600 | lr = 0.56 | time = 0.0119 | train loss 0.33\n",
            "Batch 800 | lr = 0.49 | time = 0.0123 | train loss 0.32\n",
            "Epoch: 2 | time: 0.01 -- test loss = 0.32 -- accuracy = 0.84\n",
            "\n",
            "Batch 200 | lr = 0.38 | time = 0.0126 | train loss 0.34\n",
            "Batch 400 | lr = 0.33 | time = 0.0195 | train loss 0.33\n",
            "Batch 600 | lr = 0.27 | time = 0.0119 | train loss 0.27\n",
            "Batch 800 | lr = 0.22 | time = 0.0116 | train loss 0.27\n",
            "Epoch: 3 | time: 0.01 -- test loss = 0.31 -- accuracy = 0.84\n",
            "\n",
            "Batch 200 | lr = 0.16 | time = 0.0123 | train loss 0.30\n",
            "Batch 400 | lr = 0.13 | time = 0.0167 | train loss 0.29\n",
            "Batch 600 | lr = 0.11 | time = 0.0128 | train loss 0.25\n",
            "Batch 800 | lr = 0.10 | time = 0.0118 | train loss 0.24\n",
            "Epoch: 4 | time: 0.01 -- test loss = 0.26 -- accuracy = 0.86\n",
            "\n"
          ]
        },
        {
          "output_type": "display_data",
          "data": {
            "text/plain": [
              "<Figure size 648x216 with 2 Axes>"
            ],
            "image/png": "[encoded data removed]"
          },
          "metadata": {
            "needs_background": "light"
          }
        }
      ],
      "source": [
        "train_fashion(num_epochs)"
      ]
    },
    {
      "cell_type": "markdown",
      "metadata": {
        "id": "nxfO4OyRPhv1"
      },
      "source": [
        "# Cifar 10 - Loading dataset"
      ]
    },
    {
      "cell_type": "code",
      "execution_count": 9,
      "metadata": {
        "colab": {
          "base_uri": "https://localhost:8080/"
        },
        "id": "BnRs0t57PnAP",
        "outputId": "7a5b0b4f-6e1c-4b30-8acc-9220ed1e4b7e"
      },
      "outputs": [
        {
          "output_type": "stream",
          "name": "stdout",
          "text": [
            "Files already downloaded and verified\n",
            "Files already downloaded and verified\n"
          ]
        }
      ],
      "source": [
        "transform2 = transforms.Compose(\n",
        "    [transforms.ToTensor(),\n",
        "     transforms.Normalize((0.5, 0.5, 0.5), (0.5, 0.5, 0.5))])\n",
        "\n",
        "batch_size2 = 1000\n",
        "train_data2 = datasets.CIFAR10(root='./data', train=True, download=True, transform=transform2, target_transform= Lambda( lambda y: torch.zeros(10, dtype= torch.float).scatter_(0,torch.tensor(y),value = 1)))\n",
        "\n",
        "test_data2 = datasets.CIFAR10(root='./data', train=False, download=True, transform=transform2, target_transform= Lambda( lambda y: torch.zeros(10, dtype= torch.float).scatter_(0,torch.tensor(y),value = 1)))"
      ]
    },
    {
      "cell_type": "code",
      "execution_count": 10,
      "metadata": {
        "id": "nhXypBBjPlJM"
      },
      "outputs": [],
      "source": [
        "d2 = dt.Data()\n",
        "d2.train_dataloader = DataLoader(train_data2, batch_size=batch_size2,\n",
        "                                          shuffle=True)\n",
        "d2.test_dataloader = DataLoader(test_data2, batch_size=batch_size2,\n",
        "                                          shuffle=True)"
      ]
    },
    {
      "cell_type": "code",
      "execution_count": 11,
      "metadata": {
        "id": "rl5-elnpQ7EK"
      },
      "outputs": [],
      "source": [
        "x,y = next(iter(d2.train_dataloader))"
      ]
    },
    {
      "cell_type": "code",
      "execution_count": 12,
      "metadata": {
        "id": "egOjBx2DRLrZ"
      },
      "outputs": [],
      "source": [
        "def imshow(*images):\n",
        "  plt.figure(figsize= (9,5))\n",
        "  for k,img in enumerate(images): \n",
        "    plt.subplot(len(images)//4+1,4,k+1)\n",
        "    npimg= img.numpy()\n",
        "    npimg = (npimg/2 + 0.5).transpose(1,2,0)\n",
        "    plt.imshow(npimg)\n",
        "    plt.axis(\"off\")"
      ]
    },
    {
      "cell_type": "code",
      "execution_count": 13,
      "metadata": {
        "colab": {
          "base_uri": "https://localhost:8080/",
          "height": 140
        },
        "id": "rnMdFGP8T_pv",
        "outputId": "1929d120-cad4-4ee6-80a2-4f1db6b555ef"
      },
      "outputs": [
        {
          "output_type": "display_data",
          "data": {
            "text/plain": [
              "<Figure size 648x360 with 4 Axes>"
            ],
            "image/png": "[encoded data removed]"
          },
          "metadata": {
            "needs_background": "light"
          }
        }
      ],
      "source": [
        "imshow(x[0], x[1], x[2], x[3])"
      ]
    },
    {
      "cell_type": "code",
      "source": [
        "batch_num2 = len(d2.train_dataloader)\n",
        "num_epochs2 = 8\n",
        "batch_num2"
      ],
      "metadata": {
        "id": "etr8ELBRwlne",
        "outputId": "4d189c55-ac51-48cd-d647-3b11f5cd708a",
        "colab": {
          "base_uri": "https://localhost:8080/"
        }
      },
      "execution_count": 15,
      "outputs": [
        {
          "output_type": "execute_result",
          "data": {
            "text/plain": [
              "50"
            ]
          },
          "metadata": {},
          "execution_count": 15
        }
      ]
    },
    {
      "cell_type": "code",
      "execution_count": 16,
      "metadata": {
        "id": "f2MVRbOPPeoA"
      },
      "outputs": [],
      "source": [
        "state2 = lay.Network_state()\n",
        "p2 = state2.parameters\n",
        "tr2 = state2.training\n",
        "p2.dropout = 0.2\n",
        "p2.convlayers = [{\"filter_dim\" : int(3), \"in_features\": int(3), \"out_features\": int(5), \"pooling\": 1.}, {\"filter_dim\": int(3), \"in_features\": int(5), \"out_features\" : int(5), \"pooling\": 2.}]\n",
        "p2.linearlayers = [{\"dim_in\" : int(5*(14**2)), \"dim_hid\" : int(500), \"bias_is_true\" : True , \"relu_is_true\" : True}, {\"dim_in\" : int(500), \"dim_hid\" : int(10), \"bias_is_true\" : True, \"relu_is_true\" : False}]\n",
        "tr2.lr = 1.\n",
        "tr2.batch_size = 1000\n",
        "tr2.optimizer = \"sgd\"\n",
        "tr2.schedule = mb.learning_rate_cosine(2., batch_num2*num_epochs2, 0.2)"
      ]
    },
    {
      "cell_type": "code",
      "source": [
        "model2 = mb.Convolutional(state2).to(state2.device)"
      ],
      "metadata": {
        "id": "mxJafuqi0S9D"
      },
      "execution_count": 26,
      "outputs": []
    },
    {
      "cell_type": "code",
      "source": [
        "opt2, scheduler2 = mb.get_optimizer(state2, model2)\n",
        "criterion2 = nn.CrossEntropyLoss().to(state2.device)"
      ],
      "metadata": {
        "id": "hE30UsRu0TZc"
      },
      "execution_count": 27,
      "outputs": []
    },
    {
      "cell_type": "code",
      "source": [
        "train_cifar = mt.CNN_training(data = d2, state = state2, model = model2, opt = opt2, scheduler = scheduler2, train_log=15, test_log=25)"
      ],
      "metadata": {
        "id": "OY0tDHJN0c48"
      },
      "execution_count": 28,
      "outputs": []
    },
    {
      "cell_type": "code",
      "source": [
        "train_cifar(num_epochs2)"
      ],
      "metadata": {
        "id": "haHd7qyk0mwE",
        "outputId": "47d963c0-96d9-40b7-e79c-479cddf02ddc",
        "colab": {
          "base_uri": "https://localhost:8080/",
          "height": 939
        }
      },
      "execution_count": 29,
      "outputs": [
        {
          "output_type": "stream",
          "name": "stdout",
          "text": [
            "Batch 15 | lr = 2.19 | time = 0.106 | train loss 4.69\n",
            "Batch 30 | lr = 2.17 | time = 0.098 | train loss 2.93\n",
            "Batch 45 | lr = 2.14 | time = 0.0942 | train loss 2.41\n",
            "Epoch: 0 | time: 4.15 -- test loss = 1.84 -- accuracy = 0.24\n",
            "\n",
            "Batch 15 | lr = 2.08 | time = 0.0946 | train loss 2.43\n",
            "Batch 30 | lr = 2.01 | time = 0.095 | train loss 2.03\n",
            "Batch 45 | lr = 1.94 | time = 0.0954 | train loss 1.95\n",
            "Epoch: 1 | time: 4.81 -- test loss = 1.53 -- accuracy = 0.37\n",
            "\n",
            "Batch 15 | lr = 1.83 | time =  0.11 | train loss 1.78\n",
            "Batch 30 | lr = 1.73 | time = 0.0938 | train loss 1.70\n",
            "Batch 45 | lr = 1.63 | time = 0.0957 | train loss 1.61\n",
            "Epoch: 2 | time: 4.17 -- test loss = 1.40 -- accuracy = 0.41\n",
            "\n",
            "Batch 15 | lr = 1.48 | time = 0.0982 | train loss 1.53\n",
            "Batch 30 | lr = 1.36 | time = 0.0957 | train loss 1.45\n",
            "Batch 45 | lr = 1.25 | time = 0.0981 | train loss 1.35\n",
            "Epoch: 3 | time: 4.76 -- test loss = 1.23 -- accuracy = 0.48\n",
            "\n",
            "Batch 15 | lr = 1.09 | time = 0.111 | train loss 1.31\n",
            "Batch 30 | lr = 0.98 | time = 0.094 | train loss 1.23\n",
            "Batch 45 | lr = 0.86 | time = 0.0984 | train loss 1.16\n",
            "Epoch: 4 | time: 3.88 -- test loss = 1.16 -- accuracy = 0.51\n",
            "\n",
            "Batch 15 | lr = 0.72 | time = 0.0958 | train loss 1.15\n",
            "Batch 30 | lr = 0.62 | time = 0.0948 | train loss 1.10\n",
            "Batch 45 | lr = 0.53 | time = 0.096 | train loss 1.04\n",
            "Epoch: 5 | time: 4.89 -- test loss = 1.09 -- accuracy = 0.53\n",
            "\n",
            "Batch 15 | lr = 0.42 | time = 0.108 | train loss 1.05\n",
            "Batch 30 | lr = 0.35 | time = 0.0944 | train loss 1.01\n",
            "Batch 45 | lr = 0.30 | time = 0.0946 | train loss 0.93\n",
            "Epoch: 6 | time: 3.96 -- test loss = 1.07 -- accuracy = 0.54\n",
            "\n",
            "Batch 15 | lr = 0.24 | time = 0.0961 | train loss 0.99\n",
            "Batch 30 | lr = 0.21 | time = 0.0961 | train loss 0.93\n",
            "Batch 45 | lr = 0.20 | time = 0.0969 | train loss 0.88\n",
            "Epoch: 7 | time: 4.91 -- test loss = 1.06 -- accuracy = 0.55\n",
            "\n"
          ]
        },
        {
          "output_type": "display_data",
          "data": {
            "text/plain": [
              "<Figure size 648x216 with 2 Axes>"
            ],
            "image/png": "[encoded data removed]"
          },
          "metadata": {
            "needs_background": "light"
          }
        }
      ]
    }
  ],
  "metadata": {
    "colab": {
      "collapsed_sections": [
        "HW_iAOG7YWYr"
      ],
      "provenance": [],
      "toc_visible": true
    },
    "gpuClass": "standard",
    "kernelspec": {
      "display_name": "Python 3.7.6 ('base')",
      "language": "python",
      "name": "python3"
    },
    "language_info": {
      "codemirror_mode": {
        "name": "ipython",
        "version": 3
      },
      "file_extension": ".py",
      "mimetype": "text/x-python",
      "name": "python",
      "nbconvert_exporter": "python",
      "pygments_lexer": "ipython3",
      "version": "3.7.6"
    },
    "orig_nbformat": 4,
    "vscode": {
      "interpreter": {
        "hash": "8f1af38ef70d2ba974426d7a8a6b596b940002c76a66dd7cd7f620996d04d624"
      }
    },
    "accelerator": "GPU"
  },
  "nbformat": 4,
  "nbformat_minor": 0
}