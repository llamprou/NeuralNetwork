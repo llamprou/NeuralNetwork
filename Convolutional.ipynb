{
  "cells": [
    {
      "cell_type": "markdown",
      "metadata": {
        "id": "M2nf4mIeXu3Y"
      },
      "source": [
        "# Importing NN modules and data"
      ]
    },
    {
      "cell_type": "code",
      "execution_count": 1,
      "metadata": {
        "colab": {
          "base_uri": "https://localhost:8080/"
        },
        "id": "MAiM7TkQEUjR",
        "outputId": "16c4cf0f-fae6-4bf3-b313-9b07f3c1956b"
      },
      "outputs": [
        {
          "output_type": "stream",
          "name": "stdout",
          "text": [
            "Mounted at /content/drive\n"
          ]
        }
      ],
      "source": [
        "from google.colab import drive\n",
        "drive.mount('/content/drive')"
      ]
    },
    {
      "cell_type": "code",
      "execution_count": 1,
      "metadata": {
        "id": "QnzKmIb7EUjU"
      },
      "outputs": [],
      "source": [
        "import sys\n",
        "sys.path.insert(0,\"/content/drive/My Drive/Colab Notebooks/NeuralNetwork\")"
      ]
    },
    {
      "cell_type": "code",
      "execution_count": 2,
      "metadata": {
        "id": "3v2w4PhUEUjV"
      },
      "outputs": [],
      "source": [
        "import torch\n",
        "import matplotlib.pyplot as plt\n",
        "from torch import nn\n",
        "from torch.utils.data import Dataset, DataLoader\n",
        "\n",
        "import pandas as pd\n",
        "import os\n",
        "import torch.optim as optim\n",
        "\n",
        "\n",
        "import numpy as np\n",
        "import random\n",
        "import copy\n",
        "import pickle\n",
        "import pandas as pd\n",
        "import time\n",
        "\n",
        "from library_model import layers as lay\n",
        "from library_model import model_building as mb\n",
        "from library_model import model_training as mt\n",
        "from data import data_loading as dt\n",
        "from data import text as txt"
      ]
    },
    {
      "cell_type": "markdown",
      "metadata": {
        "id": "3xUCd9vnYC8P"
      },
      "source": [
        "# Process Data"
      ]
    },
    {
      "cell_type": "code",
      "execution_count": 3,
      "metadata": {
        "id": "zlyc3oYjEUjW"
      },
      "outputs": [],
      "source": [
        "from torchvision import datasets, transforms\n",
        "from torchvision.io import read_image\n",
        "from torchvision.transforms import ToTensor, Lambda"
      ]
    },
    {
      "cell_type": "code",
      "execution_count": 4,
      "metadata": {
        "id": "KEl4G0QAEUjW"
      },
      "outputs": [],
      "source": [
        "train_data = datasets.FashionMNIST(root = \"data\" , train = True, download = True, transform = ToTensor(), target_transform= Lambda( lambda y: torch.zeros(10, dtype= torch.float).scatter_(0,torch.tensor(y),value = 1)))\n",
        "test_data = datasets.FashionMNIST(root = \"data\" , train = False, download = True, transform = ToTensor(), target_transform= Lambda( lambda y: torch.zeros(10, dtype= torch.float).scatter_(0,torch.tensor(y),value = 1)))"
      ]
    },
    {
      "cell_type": "code",
      "execution_count": 5,
      "metadata": {
        "id": "TmERjU1PEUjW"
      },
      "outputs": [],
      "source": [
        "d = dt.Data()\n",
        "d.train_dataloader = DataLoader( dataset= train_data, batch_size = 64, shuffle = True)\n",
        "d.test_dataloader = DataLoader( dataset= test_data, batch_size = 64, shuffle = True)"
      ]
    },
    {
      "cell_type": "code",
      "execution_count": 6,
      "metadata": {
        "colab": {
          "base_uri": "https://localhost:8080/"
        },
        "id": "JL3LcbuQEyBC",
        "outputId": "2f6b272f-e06f-43ef-aebb-fa316e5571a2"
      },
      "outputs": [
        {
          "output_type": "execute_result",
          "data": {
            "text/plain": [
              "(torch.Size([64, 1, 28, 28]), torch.Size([64, 10]))"
            ]
          },
          "metadata": {},
          "execution_count": 6
        }
      ],
      "source": [
        "x1, y1 = (next(iter(d.train_dataloader)))\n",
        "x1.size(), y1.size()"
      ]
    },
    {
      "cell_type": "code",
      "execution_count": 7,
      "metadata": {
        "colab": {
          "base_uri": "https://localhost:8080/"
        },
        "id": "KZccFiOmgw4m",
        "outputId": "375ac51e-012e-4121-bf4a-7d5931009a19"
      },
      "outputs": [
        {
          "output_type": "execute_result",
          "data": {
            "text/plain": [
              "938"
            ]
          },
          "metadata": {},
          "execution_count": 7
        }
      ],
      "source": [
        "batch_num = len(d.train_dataloader)\n",
        "num_epochs = 5\n",
        "batch_num"
      ]
    },
    {
      "cell_type": "markdown",
      "metadata": {
        "id": "637OC-RFYMsI"
      },
      "source": [
        "# Define Network State"
      ]
    },
    {
      "cell_type": "code",
      "execution_count": 8,
      "metadata": {
        "id": "kHuXy1ckEUjX"
      },
      "outputs": [],
      "source": [
        "state = lay.Network_state()\n",
        "p = state.parameters\n",
        "tr = state.training\n",
        "p.dropout = 0.2\n",
        "p.convlayers = [{\"filter_dim\" : int(5), \"in_features\": int(1), \"out_features\": int(10)}, {\"filter_dim\": int(5), \"in_features\": int(10), \"out_features\" : int(10)}]\n",
        "p.linearlayers = [{\"dim_in\" : int(10*(4**2)), \"dim_hid\" : int(100), \"bias_is_true\" : True , \"relu_is_true\" : True}, {\"dim_in\" : int(100), \"dim_hid\" : int(10), \"bias_is_true\" : True, \"relu_is_true\" : False}]\n",
        "tr.lr = 1.\n",
        "tr.batch_size = 64\n",
        "tr.optimizer = \"sgd\"\n",
        "tr.schedule = mb.learning_rate_cosine(1., batch_num*num_epochs, 0.1)"
      ]
    },
    {
      "cell_type": "markdown",
      "metadata": {
        "id": "HW_iAOG7YWYr"
      },
      "source": [
        "# Construct Model"
      ]
    },
    {
      "cell_type": "code",
      "execution_count": 9,
      "metadata": {
        "id": "hgpRY3IsEUjY"
      },
      "outputs": [],
      "source": [
        "model = mb.Convolutional(state).to(state.device)"
      ]
    },
    {
      "cell_type": "code",
      "execution_count": 10,
      "metadata": {
        "id": "tRyyHLBmJ9we"
      },
      "outputs": [],
      "source": [
        "opt, scheduler = mb.get_optimizer(state, model)\n",
        "criterion = nn.CrossEntropyLoss().to(state.device)"
      ]
    },
    {
      "cell_type": "markdown",
      "metadata": {
        "id": "DTIilQCQYcQ8"
      },
      "source": [
        "# Train Model"
      ]
    },
    {
      "cell_type": "code",
      "execution_count": 11,
      "metadata": {
        "id": "XgDLXeTxL5aA"
      },
      "outputs": [],
      "source": [
        "train_fashion = mt.CNN_training(data = d, state = state, model = model, opt = opt, scheduler = scheduler)"
      ]
    },
    {
      "cell_type": "code",
      "execution_count": 12,
      "metadata": {
        "colab": {
          "base_uri": "https://localhost:8080/",
          "height": 762
        },
        "id": "B0hkqbUVlLIT",
        "outputId": "0b2918b8-8fb1-4934-d152-008a02432a54"
      },
      "outputs": [
        {
          "output_type": "stream",
          "name": "stdout",
          "text": [
            "Batch 200 | lr = 1.10 | time = 0.0122 | train loss 1.00\n",
            "Batch 400 | lr = 1.08 | time = 0.0125 | train loss 0.62\n",
            "Batch 600 | lr = 1.06 | time = 0.0117 | train loss 0.52\n",
            "Batch 800 | lr = 1.03 | time = 0.0118 | train loss 0.46\n",
            "Epoch: 0 | time: 0.01 -- test loss = 0.48 -- accuracy = 0.78\n",
            "\n",
            "Batch 200 | lr = 0.96 | time = 0.0121 | train loss 0.46\n",
            "Batch 400 | lr = 0.91 | time = 0.0154 | train loss 0.44\n",
            "Batch 600 | lr = 0.86 | time = 0.0115 | train loss 0.39\n",
            "Batch 800 | lr = 0.80 | time = 0.0121 | train loss 0.37\n",
            "Epoch: 1 | time: 0.01 -- test loss = 0.35 -- accuracy = 0.82\n",
            "\n",
            "Batch 200 | lr = 0.69 | time = 0.0115 | train loss 0.38\n",
            "Batch 400 | lr = 0.62 | time = 0.0116 | train loss 0.38\n",
            "Batch 600 | lr = 0.56 | time = 0.0115 | train loss 0.32\n",
            "Batch 800 | lr = 0.49 | time = 0.0136 | train loss 0.32\n",
            "Epoch: 2 | time: 0.02 -- test loss = 0.30 -- accuracy = 0.84\n",
            "\n",
            "Batch 200 | lr = 0.38 | time = 0.0125 | train loss 0.33\n",
            "Batch 400 | lr = 0.33 | time = 0.012 | train loss 0.33\n",
            "Batch 600 | lr = 0.27 | time = 0.0116 | train loss 0.27\n",
            "Batch 800 | lr = 0.22 | time = 0.0118 | train loss 0.26\n",
            "Epoch: 3 | time: 0.03 -- test loss = 0.29 -- accuracy = 0.85\n",
            "\n",
            "Batch 200 | lr = 0.16 | time = 0.012 | train loss 0.31\n",
            "Batch 400 | lr = 0.13 | time = 0.0118 | train loss 0.29\n",
            "Batch 600 | lr = 0.11 | time = 0.0118 | train loss 0.25\n",
            "Batch 800 | lr = 0.10 | time = 0.0125 | train loss 0.24\n",
            "Epoch: 4 | time: 0.02 -- test loss = 0.28 -- accuracy = 0.85\n",
            "\n"
          ]
        },
        {
          "output_type": "display_data",
          "data": {
            "text/plain": [
              "<Figure size 648x216 with 2 Axes>"
            ],
            "image/png": "[encoded data removed]"
          },
          "metadata": {
            "needs_background": "light"
          }
        }
      ],
      "source": [
        "train_fashion(num_epochs)"
      ]
    },
    {
      "cell_type": "markdown",
      "metadata": {
        "id": "nxfO4OyRPhv1"
      },
      "source": [
        "# Cifar 10 - Loading dataset"
      ]
    },
    {
      "cell_type": "code",
      "execution_count": null,
      "metadata": {
        "colab": {
          "base_uri": "https://localhost:8080/"
        },
        "id": "BnRs0t57PnAP",
        "outputId": "84771074-8c79-4c73-a27e-f3dc1695c028"
      },
      "outputs": [
        {
          "name": "stdout",
          "output_type": "stream",
          "text": [
            "Files already downloaded and verified\n",
            "Files already downloaded and verified\n"
          ]
        }
      ],
      "source": [
        "transform2 = transforms.Compose(\n",
        "    [transforms.ToTensor(),\n",
        "     transforms.Normalize((0.5, 0.5, 0.5), (0.5, 0.5, 0.5))])\n",
        "\n",
        "batch_size2 = 4\n",
        "train_data2 = datasets.CIFAR10(root='./data', train=True, download=True, transform=transform2)\n",
        "\n",
        "test_data2 = datasets.CIFAR10(root='./data', train=False, download=True, transform=transform2)"
      ]
    },
    {
      "cell_type": "code",
      "execution_count": null,
      "metadata": {
        "id": "nhXypBBjPlJM"
      },
      "outputs": [],
      "source": [
        "d2 = dt.Data()\n",
        "d2.train_dataloader = DataLoader(train_data2, batch_size=batch_size2,\n",
        "                                          shuffle=True)\n",
        "d2.test_dataloader = DataLoader(test_data2, batch_size=batch_size2,\n",
        "                                          shuffle=True)"
      ]
    },
    {
      "cell_type": "code",
      "execution_count": null,
      "metadata": {
        "id": "rl5-elnpQ7EK"
      },
      "outputs": [],
      "source": [
        "x,y = next(iter(d2.train_dataloader))"
      ]
    },
    {
      "cell_type": "code",
      "execution_count": null,
      "metadata": {
        "id": "egOjBx2DRLrZ"
      },
      "outputs": [],
      "source": [
        "def imshow(*images):\n",
        "  plt.figure(figsize= (9,5))\n",
        "  for k,img in enumerate(images): \n",
        "    plt.subplot(len(images)//4+1,4,k+1)\n",
        "    npimg= img.numpy()\n",
        "    npimg = (npimg/2 + 0.5).transpose(1,2,0)\n",
        "    plt.imshow(npimg)\n",
        "    plt.axis(\"off\")"
      ]
    },
    {
      "cell_type": "code",
      "execution_count": null,
      "metadata": {
        "colab": {
          "base_uri": "https://localhost:8080/",
          "height": 140
        },
        "id": "rnMdFGP8T_pv",
        "outputId": "c3ab1be9-0e53-47f5-8b47-2455352f282c"
      },
      "outputs": [
        {
          "data": {
            "image/png": "[encoded data removed]",
            "text/plain": [
              "<Figure size 648x360 with 4 Axes>"
            ]
          },
          "metadata": {
            "needs_background": "light"
          },
          "output_type": "display_data"
        }
      ],
      "source": [
        "imshow(x[0], x[1], x[2], x[3])"
      ]
    },
    {
      "cell_type": "code",
      "execution_count": null,
      "metadata": {
        "id": "f2MVRbOPPeoA"
      },
      "outputs": [],
      "source": [
        "state2 = lay.Network_state()\n",
        "p2 = state2.parameters\n",
        "tr2 = state2.training\n",
        "p2.dropout = 0.2\n",
        "p2.convlayers = [{\"filter_dim\" : int(5), \"in_features\": int(3), \"out_features\": int(10)}, {\"filter_dim\": int(5), \"in_features\": int(10), \"out_features\" : int(10)}]\n",
        "p2.linearlayers = [{\"dim_in\" : int(10*(4**2)), \"dim_hid\" : int(100), \"bias_is_true\" : True , \"relu_is_true\" : True}, {\"dim_in\" : int(100), \"dim_hid\" : int(10), \"bias_is_true\" : True, \"relu_is_true\" : False}]\n",
        "tr2.lr = 1.\n",
        "tr2.batch_size = 4\n",
        "tr2.optimizer = \"sgd\"\n",
        "tr2.schedule = mb.learning_rate_step(1., 1.1, 1)"
      ]
    }
  ],
  "metadata": {
    "colab": {
      "collapsed_sections": [
        "HW_iAOG7YWYr"
      ],
      "provenance": [],
      "toc_visible": true
    },
    "gpuClass": "standard",
    "kernelspec": {
      "display_name": "Python 3.7.6 ('base')",
      "language": "python",
      "name": "python3"
    },
    "language_info": {
      "codemirror_mode": {
        "name": "ipython",
        "version": 3
      },
      "file_extension": ".py",
      "mimetype": "text/x-python",
      "name": "python",
      "nbconvert_exporter": "python",
      "pygments_lexer": "ipython3",
      "version": "3.7.6"
    },
    "orig_nbformat": 4,
    "vscode": {
      "interpreter": {
        "hash": "8f1af38ef70d2ba974426d7a8a6b596b940002c76a66dd7cd7f620996d04d624"
      }
    },
    "accelerator": "GPU"
  },
  "nbformat": 4,
  "nbformat_minor": 0
}