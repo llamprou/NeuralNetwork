{
 "cells": [
  {
   "cell_type": "code",
   "execution_count": null,
   "metadata": {},
   "outputs": [],
   "source": [
    "#EXAMPLES OF ALL MODELS\n",
    "\n",
    "#lin_model = lay.linear_layer((10,5,True,True))\n",
    "#ffmodel = lay.FeedForward([(10,8,True,True),(8,5,True,True)])\n",
    "#att_model = lay.attention((24,5,4))\n",
    "#skipatt, skipff = lay.get_coder_blocks(24,6,4,20)\n",
    "#enc_model = lay.Encoder(skipatt, skipff)\n",
    "#dec_model = lay.Decoder(skipatt, skipff)\n",
    "#encstack_model = lay.EncoderStack(skipatt, skipff,4)\n",
    "#transformer_layer = lay.TransformerLayer(skipatt, skipff, 4)\n",
    "#model_list = [lin_model, ffmodel, att_model, skipatt, skipff, enc_model, dec_model, encstack_model, transformer_layer]"
   ]
  },
  {
   "cell_type": "code",
   "execution_count": 1,
   "metadata": {},
   "outputs": [],
   "source": [
    "import torch\n",
    "from torch import nn\n",
    "import sys\n",
    "from itertools import chain\n",
    "import copy\n",
    "import os\n",
    "import math\n",
    "from library_model import layers as lay\n",
    "from library_model import model_building as mb\n",
    "from data import data_loading as dt\n",
    "from data import text as txt\n",
    "import numpy as np\n",
    "import random\n"
   ]
  },
  {
   "cell_type": "markdown",
   "metadata": {},
   "source": [
    "Synthetic text data"
   ]
  },
  {
   "cell_type": "code",
   "execution_count": 2,
   "metadata": {},
   "outputs": [],
   "source": [
    "mytextpiece = \"<start> When I was young, I never needed anyone and making love was just for fun. Those days are gone! Living alone, I think of all the friends I've known but when I dial the telephone nobody is home. All by myself, I don't wanna be all by myself, anymore! <end>\"\n",
    "mytranslationpiece = \" <start> Οταν ημουν νεος, δεν χρειαζομουν κανενα και το να κανω ερωτα ηταν απλα για ευχαριστηση. Αυτες οι μερες εχουν περασει! Ζωντας μονος μου, σκεφτομαι ολους τους φιλους που ξερω αλλα οταν τους καλω στο τηλεφωνο κανεις δεν ειναι σπιτι. Ολομοναχος, δε θελω πια να ειμαι ολομοναχος!\"\n",
    "mytext = [mytextpiece for _ in range(2000)]\n",
    "mytranslation = [mytranslationpiece for _ in range(2000)]"
   ]
  },
  {
   "cell_type": "code",
   "execution_count": 3,
   "metadata": {},
   "outputs": [
    {
     "data": {
      "text/plain": [
       "47"
      ]
     },
     "execution_count": 3,
     "metadata": {},
     "output_type": "execute_result"
    }
   ],
   "source": [
    "tokenizer_in, tokenizer_out, dataloader, starting_wrd, ending_wrd = txt.get_tranformer_data(mytext, mytext, 80)\n",
    "encode=tokenizer_in.text_encoding\n",
    "decode=tokenizer_out.text_decoding\n",
    "len(tokenizer_in.token_encoding.keys())"
   ]
  },
  {
   "cell_type": "code",
   "execution_count": 4,
   "metadata": {},
   "outputs": [
    {
     "name": "stdout",
     "output_type": "stream",
     "text": [
      "<start> When I was young, I never needed anyone and making love was just for fun. Those days are gone! Living alone, I think of all the friends I've known but when I dial the telephone nobody is home. All by myself, I don't wanna be all by myself, anymore! <end>\n",
      "<start> When I was young, I never needed anyone and making love was just for fun. Those days are gone! Living alone, I think of all the friends I've known but when I dial the telephone nobody is home. All by myself, I don't wanna be all by myself, anymore!\n",
      "When I was young, I never needed anyone and making love was just for fun. Those days are gone! Living alone, I think of all the friends I've known but when I dial the telephone nobody is home. All by myself, I don't wanna be all by myself, anymore! <end>\n"
     ]
    }
   ],
   "source": [
    "data = iter(dataloader)\n",
    "(x,y) = next(data)\n",
    "print(decode(x[0][0]))\n",
    "print(decode(x[1][0]))\n",
    "print(decode(y[0]))"
   ]
  },
  {
   "cell_type": "markdown",
   "metadata": {},
   "source": [
    "Define transformer model"
   ]
  },
  {
   "cell_type": "code",
   "execution_count": 5,
   "metadata": {},
   "outputs": [],
   "source": [
    "model, opt = mb.get_registered_Transformer_model(in_vocab_size=47, out_vocab_size=47, dim_in = 60, dim_key= 10, heads = 6, dim_internal=80, copies = 3, lr = 1., start=starting_wrd, end = ending_wrd)\n",
    "model_operate = mb.NN_operating_tools(model, opt, learning_rate_schedule=mb.learning_rate_function(60, 2.5, 8))"
   ]
  },
  {
   "cell_type": "code",
   "execution_count": 6,
   "metadata": {},
   "outputs": [
    {
     "data": {
      "text/plain": [
       "torch.Size([1, 63])"
      ]
     },
     "execution_count": 6,
     "metadata": {},
     "output_type": "execute_result"
    }
   ],
   "source": [
    "x[0][0].unsqueeze(0).size()"
   ]
  },
  {
   "cell_type": "code",
   "execution_count": 7,
   "metadata": {},
   "outputs": [
    {
     "data": {
      "text/plain": [
       "'<start> be be be be be be be be be be be be be be be be be be be be be be be be be be be be be be be be be be be be be be be be be be be be be be be be be be be be be be be be be be be be be be'"
      ]
     },
     "execution_count": 7,
     "metadata": {},
     "output_type": "execute_result"
    }
   ],
   "source": [
    "model.eval()\n",
    "decode(model.autoregression(x[0][0].unsqueeze(0), 62, mode=\"beam\"))"
   ]
  },
  {
   "cell_type": "code",
   "execution_count": 8,
   "metadata": {},
   "outputs": [
    {
     "data": {
      "text/plain": [
       "'be be be be be be be be be be be be be be be be be be be be be be be be be be be be be be be be be be be be be be be be be be be be be be be be be be be be be be be be be be be be be be'"
      ]
     },
     "execution_count": 8,
     "metadata": {},
     "output_type": "execute_result"
    }
   ],
   "source": [
    "out, prob =model([x[0],x[1]])\n",
    "decode(out[10])"
   ]
  },
  {
   "cell_type": "code",
   "execution_count": 9,
   "metadata": {},
   "outputs": [
    {
     "name": "stdout",
     "output_type": "stream",
     "text": [
      "Epoch: 0 -- time: 18.4728000164032 -- loss = 139.25997924804688\n",
      "\n",
      "<start> be be be be be be be be be be be be be be be be be be be be be be be be be be be be be be be be be be be be be be be be be be be be be be be be be be be be be be be be be be be be be be\n",
      "Epoch: 1 -- time: 17.102269887924194 -- loss = 139.0017547607422\n",
      "\n",
      "<start> be be be be be be be be be be be be be be be be be be be be be be be be be be be be be be be be be be be be be be be be be be be be be be be be be be be be be be be be be be be be be be\n",
      "Epoch: 2 -- time: 16.845630168914795 -- loss = 138.75772094726562\n",
      "\n",
      "<start> be be be be be be be be be be be be be be be be be be be be be be be be be be be be be be be be be be be be be be be be be be be be be be be be be be be be be be be be be be be be be be\n",
      "Epoch: 3 -- time: 18.683647871017456 -- loss = 138.53318786621094\n",
      "\n",
      "<start> be be be be be be be be be be be be be be be be be be be be be be be be be be be be be be be be be be be be be be be be be be be be be be be be be be be be be be be be be be be be be be\n",
      "Epoch: 4 -- time: 16.798038959503174 -- loss = 138.09645080566406\n",
      "\n",
      "<start> be be be be be be be be be be be be be be be be be be be be be be be be be be be be be be be be be be be be be be be be be be be be be be be be be be be be be be be be be be be be be be\n",
      "Epoch: 5 -- time: 19.235535860061646 -- loss = 137.8192596435547\n",
      "\n",
      "<start> be be be be be be be be be be be be be be be be be be be be be be be be be be be be be be be be be be be be be be be be be be be be be be be be be be be be be be be be be be be be be be\n",
      "Epoch: 6 -- time: 16.380876064300537 -- loss = 136.26011657714844\n",
      "\n",
      "<start> be be be be be be be be be be be be be be be be be be be be be be be be be be be be be be be be be be be be be be be be be be be be be be be be be be be be be be be be be be be be be be\n",
      "Epoch: 7 -- time: 16.50891089439392 -- loss = 120.81996154785156\n",
      "\n",
      "<start> When When When When When When When When When When When When When When When When When When When When When When When When When When When When When When When When When When When When When When When When When When When When When young When When When When When When young When When When When When When When When When\n",
      "Epoch: 8 -- time: 17.8124840259552 -- loss = 89.0166244506836\n",
      "\n",
      "<start> When When When When When When When When When When When When When When When When When When When When When When When When When When When When When When When When When young I never young I never needed anyone When When young I never needed anyone When, I never needed anyone When young, I never needed,\n",
      "Epoch: 9 -- time: 16.7117440700531 -- loss = 56.39598846435547\n",
      "\n",
      "<start> When When I was young, I never needed anyone and making love was just for fun. Those days are gone! Living alone, I think of all the telephone nobody is home. All by myself, anymore! is home. All by myself, I dial the telephone nobody is home. All\n",
      "Epoch: 10 -- time: 16.04984188079834 -- loss = 41.724212646484375\n",
      "\n",
      "<start> When When When I was young, I never needed anyone and making love was just for fun. Those days are gone! Living alone, I think of all the friends I've known but when I dial the telephone nobody is home. All by myself, anymore! <end>\n",
      "Epoch: 11 -- time: 16.161375045776367 -- loss = 35.59406280517578\n",
      "\n",
      "<start> When I was young, I never needed anyone and making love was just for fun. Those days are gone! Living alone, I think of all the friends I've known but when I dial the telephone nobody is home. All by myself, I don't wanna be all by myself, anymore! <end>\n",
      "Epoch: 12 -- time: 16.404407024383545 -- loss = 32.12682342529297\n",
      "\n",
      "<start> When When I was young, I never needed anyone and making love was just for fun. Those days are gone! Living alone, I think of all the friends I've known but when I dial the telephone nobody is home. All by myself, I don't wanna be all by myself, anymore!\n",
      "Epoch: 13 -- time: 16.239994287490845 -- loss = 29.660215377807617\n",
      "\n",
      "<start> When I was young, I never needed anyone and making love was just for fun. Those days are gone! Living alone, I think of all the friends I've known but when I dial the telephone nobody is home. All by myself, I don't wanna be all by myself, anymore! <end>\n",
      "Epoch: 14 -- time: 16.216928005218506 -- loss = 27.948556900024414\n",
      "\n",
      "<start> When I was young, I never needed anyone and making love was just for fun. Those days are gone! Living alone, I think of all the friends I've known but when I dial the telephone nobody is home. All by myself, I don't wanna be all by myself, anymore! <end>\n"
     ]
    }
   ],
   "source": [
    "model_operate.fit_transformer(15, dataloader, tokenizer=tokenizer_out, sample_input=x[0][0].unsqueeze(0))"
   ]
  },
  {
   "cell_type": "code",
   "execution_count": null,
   "metadata": {},
   "outputs": [],
   "source": [
    "model_operate.save_pt(\"saved_models/random.pt\")"
   ]
  },
  {
   "cell_type": "code",
   "execution_count": 45,
   "metadata": {},
   "outputs": [
    {
     "data": {
      "text/plain": [
       "\"When I was young, I never needed anyone and making love was just for fun. Those days are gone! Living alone, I think of all the friends I've known but when I dial the friends nobody is home. All by myself, I don't wanna be all by myself, anymore\""
      ]
     },
     "execution_count": 45,
     "metadata": {},
     "output_type": "execute_result"
    }
   ],
   "source": [
    "out, prob =model([x[0][0].unsqueeze(0),x[1][0,:60].unsqueeze(0)])\n",
    "decode(out[0])"
   ]
  },
  {
   "cell_type": "code",
   "execution_count": null,
   "metadata": {},
   "outputs": [],
   "source": []
  }
 ],
 "metadata": {
  "kernelspec": {
   "display_name": "Python 3.7.6 ('base')",
   "language": "python",
   "name": "python3"
  },
  "language_info": {
   "codemirror_mode": {
    "name": "ipython",
    "version": 3
   },
   "file_extension": ".py",
   "mimetype": "text/x-python",
   "name": "python",
   "nbconvert_exporter": "python",
   "pygments_lexer": "ipython3",
   "version": "3.7.6"
  },
  "orig_nbformat": 4,
  "vscode": {
   "interpreter": {
    "hash": "8f1af38ef70d2ba974426d7a8a6b596b940002c76a66dd7cd7f620996d04d624"
   }
  }
 },
 "nbformat": 4,
 "nbformat_minor": 2
}
